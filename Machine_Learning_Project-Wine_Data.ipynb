{
 "cells": [
  {
   "cell_type": "markdown",
   "id": "143fc1c1",
   "metadata": {},
   "source": [
    "In this notebook, we will try to predict a quality of a wine using its physiochemical attributes.\n",
    "\n",
    "I will investigate the wine quality data which is available at https://archive.ics.uci.edu/ml/datasets/Wine+Quality. More information can be found here:\n",
    "\n",
    "P. Cortez, A. Cerdeira, F. Almeida, T. Matos and J. Reis.\n",
    "Modeling wine preferences by data mining from physicochemical properties. In Decision Support Systems, Elsevier, 47(4):547-553, 2009.\n",
    "\n",
    "Let us start with reading our files and checking the features:"
   ]
  },
  {
   "cell_type": "code",
   "execution_count": 1,
   "id": "f47ec243",
   "metadata": {},
   "outputs": [
    {
     "data": {
      "text/html": [
       "<div>\n",
       "<style scoped>\n",
       "    .dataframe tbody tr th:only-of-type {\n",
       "        vertical-align: middle;\n",
       "    }\n",
       "\n",
       "    .dataframe tbody tr th {\n",
       "        vertical-align: top;\n",
       "    }\n",
       "\n",
       "    .dataframe thead th {\n",
       "        text-align: right;\n",
       "    }\n",
       "</style>\n",
       "<table border=\"1\" class=\"dataframe\">\n",
       "  <thead>\n",
       "    <tr style=\"text-align: right;\">\n",
       "      <th></th>\n",
       "      <th>fixed acidity</th>\n",
       "      <th>volatile acidity</th>\n",
       "      <th>citric acid</th>\n",
       "      <th>residual sugar</th>\n",
       "      <th>chlorides</th>\n",
       "      <th>free sulfur dioxide</th>\n",
       "      <th>total sulfur dioxide</th>\n",
       "      <th>density</th>\n",
       "      <th>pH</th>\n",
       "      <th>sulphates</th>\n",
       "      <th>alcohol</th>\n",
       "      <th>quality</th>\n",
       "    </tr>\n",
       "  </thead>\n",
       "  <tbody>\n",
       "    <tr>\n",
       "      <th>count</th>\n",
       "      <td>4898.000000</td>\n",
       "      <td>4898.000000</td>\n",
       "      <td>4898.000000</td>\n",
       "      <td>4898.000000</td>\n",
       "      <td>4898.000000</td>\n",
       "      <td>4898.000000</td>\n",
       "      <td>4898.000000</td>\n",
       "      <td>4898.000000</td>\n",
       "      <td>4898.000000</td>\n",
       "      <td>4898.000000</td>\n",
       "      <td>4898.000000</td>\n",
       "      <td>4898.000000</td>\n",
       "    </tr>\n",
       "    <tr>\n",
       "      <th>mean</th>\n",
       "      <td>6.854788</td>\n",
       "      <td>0.278241</td>\n",
       "      <td>0.334192</td>\n",
       "      <td>6.391415</td>\n",
       "      <td>0.045772</td>\n",
       "      <td>35.308085</td>\n",
       "      <td>138.360657</td>\n",
       "      <td>0.994027</td>\n",
       "      <td>3.188267</td>\n",
       "      <td>0.489847</td>\n",
       "      <td>10.514267</td>\n",
       "      <td>5.877909</td>\n",
       "    </tr>\n",
       "    <tr>\n",
       "      <th>std</th>\n",
       "      <td>0.843868</td>\n",
       "      <td>0.100795</td>\n",
       "      <td>0.121020</td>\n",
       "      <td>5.072058</td>\n",
       "      <td>0.021848</td>\n",
       "      <td>17.007137</td>\n",
       "      <td>42.498065</td>\n",
       "      <td>0.002991</td>\n",
       "      <td>0.151001</td>\n",
       "      <td>0.114126</td>\n",
       "      <td>1.230621</td>\n",
       "      <td>0.885639</td>\n",
       "    </tr>\n",
       "    <tr>\n",
       "      <th>min</th>\n",
       "      <td>3.800000</td>\n",
       "      <td>0.080000</td>\n",
       "      <td>0.000000</td>\n",
       "      <td>0.600000</td>\n",
       "      <td>0.009000</td>\n",
       "      <td>2.000000</td>\n",
       "      <td>9.000000</td>\n",
       "      <td>0.987110</td>\n",
       "      <td>2.720000</td>\n",
       "      <td>0.220000</td>\n",
       "      <td>8.000000</td>\n",
       "      <td>3.000000</td>\n",
       "    </tr>\n",
       "    <tr>\n",
       "      <th>25%</th>\n",
       "      <td>6.300000</td>\n",
       "      <td>0.210000</td>\n",
       "      <td>0.270000</td>\n",
       "      <td>1.700000</td>\n",
       "      <td>0.036000</td>\n",
       "      <td>23.000000</td>\n",
       "      <td>108.000000</td>\n",
       "      <td>0.991723</td>\n",
       "      <td>3.090000</td>\n",
       "      <td>0.410000</td>\n",
       "      <td>9.500000</td>\n",
       "      <td>5.000000</td>\n",
       "    </tr>\n",
       "    <tr>\n",
       "      <th>50%</th>\n",
       "      <td>6.800000</td>\n",
       "      <td>0.260000</td>\n",
       "      <td>0.320000</td>\n",
       "      <td>5.200000</td>\n",
       "      <td>0.043000</td>\n",
       "      <td>34.000000</td>\n",
       "      <td>134.000000</td>\n",
       "      <td>0.993740</td>\n",
       "      <td>3.180000</td>\n",
       "      <td>0.470000</td>\n",
       "      <td>10.400000</td>\n",
       "      <td>6.000000</td>\n",
       "    </tr>\n",
       "    <tr>\n",
       "      <th>75%</th>\n",
       "      <td>7.300000</td>\n",
       "      <td>0.320000</td>\n",
       "      <td>0.390000</td>\n",
       "      <td>9.900000</td>\n",
       "      <td>0.050000</td>\n",
       "      <td>46.000000</td>\n",
       "      <td>167.000000</td>\n",
       "      <td>0.996100</td>\n",
       "      <td>3.280000</td>\n",
       "      <td>0.550000</td>\n",
       "      <td>11.400000</td>\n",
       "      <td>6.000000</td>\n",
       "    </tr>\n",
       "    <tr>\n",
       "      <th>max</th>\n",
       "      <td>14.200000</td>\n",
       "      <td>1.100000</td>\n",
       "      <td>1.660000</td>\n",
       "      <td>65.800000</td>\n",
       "      <td>0.346000</td>\n",
       "      <td>289.000000</td>\n",
       "      <td>440.000000</td>\n",
       "      <td>1.038980</td>\n",
       "      <td>3.820000</td>\n",
       "      <td>1.080000</td>\n",
       "      <td>14.200000</td>\n",
       "      <td>9.000000</td>\n",
       "    </tr>\n",
       "  </tbody>\n",
       "</table>\n",
       "</div>"
      ],
      "text/plain": [
       "       fixed acidity  volatile acidity  citric acid  residual sugar  \\\n",
       "count    4898.000000       4898.000000  4898.000000     4898.000000   \n",
       "mean        6.854788          0.278241     0.334192        6.391415   \n",
       "std         0.843868          0.100795     0.121020        5.072058   \n",
       "min         3.800000          0.080000     0.000000        0.600000   \n",
       "25%         6.300000          0.210000     0.270000        1.700000   \n",
       "50%         6.800000          0.260000     0.320000        5.200000   \n",
       "75%         7.300000          0.320000     0.390000        9.900000   \n",
       "max        14.200000          1.100000     1.660000       65.800000   \n",
       "\n",
       "         chlorides  free sulfur dioxide  total sulfur dioxide      density  \\\n",
       "count  4898.000000          4898.000000           4898.000000  4898.000000   \n",
       "mean      0.045772            35.308085            138.360657     0.994027   \n",
       "std       0.021848            17.007137             42.498065     0.002991   \n",
       "min       0.009000             2.000000              9.000000     0.987110   \n",
       "25%       0.036000            23.000000            108.000000     0.991723   \n",
       "50%       0.043000            34.000000            134.000000     0.993740   \n",
       "75%       0.050000            46.000000            167.000000     0.996100   \n",
       "max       0.346000           289.000000            440.000000     1.038980   \n",
       "\n",
       "                pH    sulphates      alcohol      quality  \n",
       "count  4898.000000  4898.000000  4898.000000  4898.000000  \n",
       "mean      3.188267     0.489847    10.514267     5.877909  \n",
       "std       0.151001     0.114126     1.230621     0.885639  \n",
       "min       2.720000     0.220000     8.000000     3.000000  \n",
       "25%       3.090000     0.410000     9.500000     5.000000  \n",
       "50%       3.180000     0.470000    10.400000     6.000000  \n",
       "75%       3.280000     0.550000    11.400000     6.000000  \n",
       "max       3.820000     1.080000    14.200000     9.000000  "
      ]
     },
     "execution_count": 1,
     "metadata": {},
     "output_type": "execute_result"
    }
   ],
   "source": [
    "import numpy as np\n",
    "import pandas as pd\n",
    "import matplotlib.pyplot as plt\n",
    "import os\n",
    "notebook_path = os.path.abspath(\"Machine_Learning_Project-Wine_Data.ipynb\")\n",
    "folder = os.path.join(os.path.dirname(notebook_path), \"./OneDrive/Desktop/wine_data/winequality-white.csv\")\n",
    "white_wine = pd.read_csv(folder,delimiter=\";\")\n",
    "\n",
    "white_wine.describe()"
   ]
  },
  {
   "cell_type": "markdown",
   "id": "bcfe54f9",
   "metadata": {},
   "source": [
    "We see from the describe (summary() equivalent of R function), with 11 independent and 1 dependent variable. There are no missing values in our dataset. The feature \"quality\" is the value we want to predict using rest of the features. We see that quality takes values between 3 and 9."
   ]
  },
  {
   "cell_type": "code",
   "execution_count": 2,
   "id": "5d54625f",
   "metadata": {},
   "outputs": [
    {
     "data": {
      "text/plain": [
       "fixed acidity           0\n",
       "volatile acidity        0\n",
       "citric acid             0\n",
       "residual sugar          0\n",
       "chlorides               0\n",
       "free sulfur dioxide     0\n",
       "total sulfur dioxide    0\n",
       "density                 0\n",
       "pH                      0\n",
       "sulphates               0\n",
       "alcohol                 0\n",
       "quality                 0\n",
       "dtype: int64"
      ]
     },
     "execution_count": 2,
     "metadata": {},
     "output_type": "execute_result"
    }
   ],
   "source": [
    "white_wine.isnull().sum() ## no missing values\n"
   ]
  },
  {
   "cell_type": "code",
   "execution_count": 3,
   "id": "8d2d753e",
   "metadata": {},
   "outputs": [
    {
     "data": {
      "text/plain": [
       "array([6, 5, 7, 8, 4, 3, 9], dtype=int64)"
      ]
     },
     "execution_count": 3,
     "metadata": {},
     "output_type": "execute_result"
    }
   ],
   "source": [
    "white_wine.quality.unique() # We see that all the values are integers between 3 and 9"
   ]
  },
  {
   "cell_type": "code",
   "execution_count": 4,
   "id": "b9de6d2b",
   "metadata": {},
   "outputs": [
    {
     "data": {
      "text/plain": [
       "<AxesSubplot: >"
      ]
     },
     "execution_count": 4,
     "metadata": {},
     "output_type": "execute_result"
    },
    {
     "data": {
      "image/png": "[encoded data removed]",
      "text/plain": [
       "<Figure size 640x480 with 1 Axes>"
      ]
     },
     "metadata": {},
     "output_type": "display_data"
    }
   ],
   "source": [
    "white_wine.quality.astype('string').value_counts().sort_index().plot(kind='bar')"
   ]
  },
  {
   "cell_type": "markdown",
   "id": "5a75a750",
   "metadata": {},
   "source": [
    "We note that we have a nice almost normally distributed looking quality values with majority of the quality values having 6. Next, we determine if all the features are required or can we remove some of them:"
   ]
  },
  {
   "cell_type": "code",
   "execution_count": 5,
   "id": "074b7223",
   "metadata": {},
   "outputs": [
    {
     "data": {
      "text/html": [
       "<div>\n",
       "<style scoped>\n",
       "    .dataframe tbody tr th:only-of-type {\n",
       "        vertical-align: middle;\n",
       "    }\n",
       "\n",
       "    .dataframe tbody tr th {\n",
       "        vertical-align: top;\n",
       "    }\n",
       "\n",
       "    .dataframe thead th {\n",
       "        text-align: right;\n",
       "    }\n",
       "</style>\n",
       "<table border=\"1\" class=\"dataframe\">\n",
       "  <thead>\n",
       "    <tr style=\"text-align: right;\">\n",
       "      <th></th>\n",
       "      <th>fixed acidity</th>\n",
       "      <th>volatile acidity</th>\n",
       "      <th>citric acid</th>\n",
       "      <th>residual sugar</th>\n",
       "      <th>chlorides</th>\n",
       "      <th>free sulfur dioxide</th>\n",
       "      <th>total sulfur dioxide</th>\n",
       "      <th>density</th>\n",
       "      <th>pH</th>\n",
       "      <th>sulphates</th>\n",
       "      <th>alcohol</th>\n",
       "      <th>quality</th>\n",
       "    </tr>\n",
       "  </thead>\n",
       "  <tbody>\n",
       "    <tr>\n",
       "      <th>fixed acidity</th>\n",
       "      <td>1.000000</td>\n",
       "      <td>-0.022697</td>\n",
       "      <td>0.289181</td>\n",
       "      <td>0.089021</td>\n",
       "      <td>0.023086</td>\n",
       "      <td>-0.049396</td>\n",
       "      <td>0.091070</td>\n",
       "      <td>0.265331</td>\n",
       "      <td>-0.425858</td>\n",
       "      <td>-0.017143</td>\n",
       "      <td>-0.120881</td>\n",
       "      <td>-0.113663</td>\n",
       "    </tr>\n",
       "    <tr>\n",
       "      <th>volatile acidity</th>\n",
       "      <td>-0.022697</td>\n",
       "      <td>1.000000</td>\n",
       "      <td>-0.149472</td>\n",
       "      <td>0.064286</td>\n",
       "      <td>0.070512</td>\n",
       "      <td>-0.097012</td>\n",
       "      <td>0.089261</td>\n",
       "      <td>0.027114</td>\n",
       "      <td>-0.031915</td>\n",
       "      <td>-0.035728</td>\n",
       "      <td>0.067718</td>\n",
       "      <td>-0.194723</td>\n",
       "    </tr>\n",
       "    <tr>\n",
       "      <th>citric acid</th>\n",
       "      <td>0.289181</td>\n",
       "      <td>-0.149472</td>\n",
       "      <td>1.000000</td>\n",
       "      <td>0.094212</td>\n",
       "      <td>0.114364</td>\n",
       "      <td>0.094077</td>\n",
       "      <td>0.121131</td>\n",
       "      <td>0.149503</td>\n",
       "      <td>-0.163748</td>\n",
       "      <td>0.062331</td>\n",
       "      <td>-0.075729</td>\n",
       "      <td>-0.009209</td>\n",
       "    </tr>\n",
       "    <tr>\n",
       "      <th>residual sugar</th>\n",
       "      <td>0.089021</td>\n",
       "      <td>0.064286</td>\n",
       "      <td>0.094212</td>\n",
       "      <td>1.000000</td>\n",
       "      <td>0.088685</td>\n",
       "      <td>0.299098</td>\n",
       "      <td>0.401439</td>\n",
       "      <td>0.838966</td>\n",
       "      <td>-0.194133</td>\n",
       "      <td>-0.026664</td>\n",
       "      <td>-0.450631</td>\n",
       "      <td>-0.097577</td>\n",
       "    </tr>\n",
       "    <tr>\n",
       "      <th>chlorides</th>\n",
       "      <td>0.023086</td>\n",
       "      <td>0.070512</td>\n",
       "      <td>0.114364</td>\n",
       "      <td>0.088685</td>\n",
       "      <td>1.000000</td>\n",
       "      <td>0.101392</td>\n",
       "      <td>0.198910</td>\n",
       "      <td>0.257211</td>\n",
       "      <td>-0.090439</td>\n",
       "      <td>0.016763</td>\n",
       "      <td>-0.360189</td>\n",
       "      <td>-0.209934</td>\n",
       "    </tr>\n",
       "    <tr>\n",
       "      <th>free sulfur dioxide</th>\n",
       "      <td>-0.049396</td>\n",
       "      <td>-0.097012</td>\n",
       "      <td>0.094077</td>\n",
       "      <td>0.299098</td>\n",
       "      <td>0.101392</td>\n",
       "      <td>1.000000</td>\n",
       "      <td>0.615501</td>\n",
       "      <td>0.294210</td>\n",
       "      <td>-0.000618</td>\n",
       "      <td>0.059217</td>\n",
       "      <td>-0.250104</td>\n",
       "      <td>0.008158</td>\n",
       "    </tr>\n",
       "    <tr>\n",
       "      <th>total sulfur dioxide</th>\n",
       "      <td>0.091070</td>\n",
       "      <td>0.089261</td>\n",
       "      <td>0.121131</td>\n",
       "      <td>0.401439</td>\n",
       "      <td>0.198910</td>\n",
       "      <td>0.615501</td>\n",
       "      <td>1.000000</td>\n",
       "      <td>0.529881</td>\n",
       "      <td>0.002321</td>\n",
       "      <td>0.134562</td>\n",
       "      <td>-0.448892</td>\n",
       "      <td>-0.174737</td>\n",
       "    </tr>\n",
       "    <tr>\n",
       "      <th>density</th>\n",
       "      <td>0.265331</td>\n",
       "      <td>0.027114</td>\n",
       "      <td>0.149503</td>\n",
       "      <td>0.838966</td>\n",
       "      <td>0.257211</td>\n",
       "      <td>0.294210</td>\n",
       "      <td>0.529881</td>\n",
       "      <td>1.000000</td>\n",
       "      <td>-0.093591</td>\n",
       "      <td>0.074493</td>\n",
       "      <td>-0.780138</td>\n",
       "      <td>-0.307123</td>\n",
       "    </tr>\n",
       "    <tr>\n",
       "      <th>pH</th>\n",
       "      <td>-0.425858</td>\n",
       "      <td>-0.031915</td>\n",
       "      <td>-0.163748</td>\n",
       "      <td>-0.194133</td>\n",
       "      <td>-0.090439</td>\n",
       "      <td>-0.000618</td>\n",
       "      <td>0.002321</td>\n",
       "      <td>-0.093591</td>\n",
       "      <td>1.000000</td>\n",
       "      <td>0.155951</td>\n",
       "      <td>0.121432</td>\n",
       "      <td>0.099427</td>\n",
       "    </tr>\n",
       "    <tr>\n",
       "      <th>sulphates</th>\n",
       "      <td>-0.017143</td>\n",
       "      <td>-0.035728</td>\n",
       "      <td>0.062331</td>\n",
       "      <td>-0.026664</td>\n",
       "      <td>0.016763</td>\n",
       "      <td>0.059217</td>\n",
       "      <td>0.134562</td>\n",
       "      <td>0.074493</td>\n",
       "      <td>0.155951</td>\n",
       "      <td>1.000000</td>\n",
       "      <td>-0.017433</td>\n",
       "      <td>0.053678</td>\n",
       "    </tr>\n",
       "    <tr>\n",
       "      <th>alcohol</th>\n",
       "      <td>-0.120881</td>\n",
       "      <td>0.067718</td>\n",
       "      <td>-0.075729</td>\n",
       "      <td>-0.450631</td>\n",
       "      <td>-0.360189</td>\n",
       "      <td>-0.250104</td>\n",
       "      <td>-0.448892</td>\n",
       "      <td>-0.780138</td>\n",
       "      <td>0.121432</td>\n",
       "      <td>-0.017433</td>\n",
       "      <td>1.000000</td>\n",
       "      <td>0.435575</td>\n",
       "    </tr>\n",
       "    <tr>\n",
       "      <th>quality</th>\n",
       "      <td>-0.113663</td>\n",
       "      <td>-0.194723</td>\n",
       "      <td>-0.009209</td>\n",
       "      <td>-0.097577</td>\n",
       "      <td>-0.209934</td>\n",
       "      <td>0.008158</td>\n",
       "      <td>-0.174737</td>\n",
       "      <td>-0.307123</td>\n",
       "      <td>0.099427</td>\n",
       "      <td>0.053678</td>\n",
       "      <td>0.435575</td>\n",
       "      <td>1.000000</td>\n",
       "    </tr>\n",
       "  </tbody>\n",
       "</table>\n",
       "</div>"
      ],
      "text/plain": [
       "                      fixed acidity  volatile acidity  citric acid  \\\n",
       "fixed acidity              1.000000         -0.022697     0.289181   \n",
       "volatile acidity          -0.022697          1.000000    -0.149472   \n",
       "citric acid                0.289181         -0.149472     1.000000   \n",
       "residual sugar             0.089021          0.064286     0.094212   \n",
       "chlorides                  0.023086          0.070512     0.114364   \n",
       "free sulfur dioxide       -0.049396         -0.097012     0.094077   \n",
       "total sulfur dioxide       0.091070          0.089261     0.121131   \n",
       "density                    0.265331          0.027114     0.149503   \n",
       "pH                        -0.425858         -0.031915    -0.163748   \n",
       "sulphates                 -0.017143         -0.035728     0.062331   \n",
       "alcohol                   -0.120881          0.067718    -0.075729   \n",
       "quality                   -0.113663         -0.194723    -0.009209   \n",
       "\n",
       "                      residual sugar  chlorides  free sulfur dioxide  \\\n",
       "fixed acidity               0.089021   0.023086            -0.049396   \n",
       "volatile acidity            0.064286   0.070512            -0.097012   \n",
       "citric acid                 0.094212   0.114364             0.094077   \n",
       "residual sugar              1.000000   0.088685             0.299098   \n",
       "chlorides                   0.088685   1.000000             0.101392   \n",
       "free sulfur dioxide         0.299098   0.101392             1.000000   \n",
       "total sulfur dioxide        0.401439   0.198910             0.615501   \n",
       "density                     0.838966   0.257211             0.294210   \n",
       "pH                         -0.194133  -0.090439            -0.000618   \n",
       "sulphates                  -0.026664   0.016763             0.059217   \n",
       "alcohol                    -0.450631  -0.360189            -0.250104   \n",
       "quality                    -0.097577  -0.209934             0.008158   \n",
       "\n",
       "                      total sulfur dioxide   density        pH  sulphates  \\\n",
       "fixed acidity                     0.091070  0.265331 -0.425858  -0.017143   \n",
       "volatile acidity                  0.089261  0.027114 -0.031915  -0.035728   \n",
       "citric acid                       0.121131  0.149503 -0.163748   0.062331   \n",
       "residual sugar                    0.401439  0.838966 -0.194133  -0.026664   \n",
       "chlorides                         0.198910  0.257211 -0.090439   0.016763   \n",
       "free sulfur dioxide               0.615501  0.294210 -0.000618   0.059217   \n",
       "total sulfur dioxide              1.000000  0.529881  0.002321   0.134562   \n",
       "density                           0.529881  1.000000 -0.093591   0.074493   \n",
       "pH                                0.002321 -0.093591  1.000000   0.155951   \n",
       "sulphates                         0.134562  0.074493  0.155951   1.000000   \n",
       "alcohol                          -0.448892 -0.780138  0.121432  -0.017433   \n",
       "quality                          -0.174737 -0.307123  0.099427   0.053678   \n",
       "\n",
       "                       alcohol   quality  \n",
       "fixed acidity        -0.120881 -0.113663  \n",
       "volatile acidity      0.067718 -0.194723  \n",
       "citric acid          -0.075729 -0.009209  \n",
       "residual sugar       -0.450631 -0.097577  \n",
       "chlorides            -0.360189 -0.209934  \n",
       "free sulfur dioxide  -0.250104  0.008158  \n",
       "total sulfur dioxide -0.448892 -0.174737  \n",
       "density              -0.780138 -0.307123  \n",
       "pH                    0.121432  0.099427  \n",
       "sulphates            -0.017433  0.053678  \n",
       "alcohol               1.000000  0.435575  \n",
       "quality               0.435575  1.000000  "
      ]
     },
     "execution_count": 5,
     "metadata": {},
     "output_type": "execute_result"
    }
   ],
   "source": [
    "pd.DataFrame.corr(white_wine)"
   ]
  },
  {
   "cell_type": "markdown",
   "id": "7a6f323b",
   "metadata": {},
   "source": [
    "In our correlation matrix, if the absolute values of two features are close to 1 it means that those two features are highly correlated. For example, density seems to be affected by the residual sugar greatly. We can see this graph in action to understand it more visually:"
   ]
  },
  {
   "cell_type": "code",
   "execution_count": 6,
   "id": "d5f6c641",
   "metadata": {},
   "outputs": [
    {
     "data": {
      "text/plain": [
       "<matplotlib.collections.PathCollection at 0x1a73de850f0>"
      ]
     },
     "execution_count": 6,
     "metadata": {},
     "output_type": "execute_result"
    },
    {
     "data": {
      "image/png": "[encoded data removed]",
      "text/plain": [
       "<Figure size 640x480 with 1 Axes>"
      ]
     },
     "metadata": {},
     "output_type": "display_data"
    }
   ],
   "source": [
    "plt.xlabel('residual_sugar'); plt.ylabel('density')\n",
    "plt.scatter(white_wine[\"residual sugar\"],white_wine[\"density\"])"
   ]
  },
  {
   "cell_type": "markdown",
   "id": "fae997bd",
   "metadata": {},
   "source": [
    "We can observe one suspicious looking sample, other than that seems like increase in residual sugar results in increase in density most of the time. We can draw all these graphs to visually check the correlation as well. \n",
    "\n",
    "Maybe it would be smart to remove the outliers before starting our training process. We will create a new dataset with removed outliers. Note that, I will split the dataset after removing the outliers, because our belief is that these outliers are wrong recorded datapoints. "
   ]
  },
  {
   "cell_type": "markdown",
   "id": "ca3e59e3",
   "metadata": {},
   "source": [
    "We can remove the data points that lays outside a selected interval. We can use quantiles for tis purposes. Let's say that we will remove data points if values of a given feature is outside the quantile 2 to 98.\n"
   ]
  },
  {
   "cell_type": "code",
   "execution_count": 7,
   "id": "649fc5c7",
   "metadata": {},
   "outputs": [],
   "source": [
    "#idx = np.all(stats.zscore(num_train) < 3, axis=1)\n",
    "\n",
    "Q1 = white_wine.quantile(0.02); Q2 = white_wine.quantile(0.98)\n",
    "IQR = Q2 - Q1\n",
    "idx = ~((white_wine <= (Q1 - 1.5*IQR)) | (white_wine > (Q2 + 1.5*IQR))).any(axis=1)\n",
    "white_wine = white_wine[idx]"
   ]
  },
  {
   "cell_type": "code",
   "execution_count": 8,
   "id": "b5439356",
   "metadata": {},
   "outputs": [
    {
     "data": {
      "text/html": [
       "<div>\n",
       "<style scoped>\n",
       "    .dataframe tbody tr th:only-of-type {\n",
       "        vertical-align: middle;\n",
       "    }\n",
       "\n",
       "    .dataframe tbody tr th {\n",
       "        vertical-align: top;\n",
       "    }\n",
       "\n",
       "    .dataframe thead th {\n",
       "        text-align: right;\n",
       "    }\n",
       "</style>\n",
       "<table border=\"1\" class=\"dataframe\">\n",
       "  <thead>\n",
       "    <tr style=\"text-align: right;\">\n",
       "      <th></th>\n",
       "      <th>fixed acidity</th>\n",
       "      <th>volatile acidity</th>\n",
       "      <th>citric acid</th>\n",
       "      <th>residual sugar</th>\n",
       "      <th>chlorides</th>\n",
       "      <th>free sulfur dioxide</th>\n",
       "      <th>total sulfur dioxide</th>\n",
       "      <th>density</th>\n",
       "      <th>pH</th>\n",
       "      <th>sulphates</th>\n",
       "      <th>alcohol</th>\n",
       "      <th>quality</th>\n",
       "    </tr>\n",
       "  </thead>\n",
       "  <tbody>\n",
       "    <tr>\n",
       "      <th>count</th>\n",
       "      <td>4891.000000</td>\n",
       "      <td>4891.000000</td>\n",
       "      <td>4891.000000</td>\n",
       "      <td>4891.000000</td>\n",
       "      <td>4891.000000</td>\n",
       "      <td>4891.000000</td>\n",
       "      <td>4891.000000</td>\n",
       "      <td>4891.000000</td>\n",
       "      <td>4891.000000</td>\n",
       "      <td>4891.000000</td>\n",
       "      <td>4891.000000</td>\n",
       "      <td>4891.000000</td>\n",
       "    </tr>\n",
       "    <tr>\n",
       "      <th>mean</th>\n",
       "      <td>6.854498</td>\n",
       "      <td>0.277937</td>\n",
       "      <td>0.333915</td>\n",
       "      <td>6.379278</td>\n",
       "      <td>0.045562</td>\n",
       "      <td>35.260478</td>\n",
       "      <td>138.258945</td>\n",
       "      <td>0.994017</td>\n",
       "      <td>3.188227</td>\n",
       "      <td>0.489681</td>\n",
       "      <td>10.514594</td>\n",
       "      <td>5.879370</td>\n",
       "    </tr>\n",
       "    <tr>\n",
       "      <th>std</th>\n",
       "      <td>0.844040</td>\n",
       "      <td>0.100096</td>\n",
       "      <td>0.119527</td>\n",
       "      <td>5.001413</td>\n",
       "      <td>0.020576</td>\n",
       "      <td>16.609072</td>\n",
       "      <td>42.273817</td>\n",
       "      <td>0.002921</td>\n",
       "      <td>0.150974</td>\n",
       "      <td>0.114094</td>\n",
       "      <td>1.230703</td>\n",
       "      <td>0.884637</td>\n",
       "    </tr>\n",
       "    <tr>\n",
       "      <th>min</th>\n",
       "      <td>3.800000</td>\n",
       "      <td>0.080000</td>\n",
       "      <td>0.000000</td>\n",
       "      <td>0.600000</td>\n",
       "      <td>0.009000</td>\n",
       "      <td>2.000000</td>\n",
       "      <td>9.000000</td>\n",
       "      <td>0.987110</td>\n",
       "      <td>2.720000</td>\n",
       "      <td>0.220000</td>\n",
       "      <td>8.000000</td>\n",
       "      <td>3.000000</td>\n",
       "    </tr>\n",
       "    <tr>\n",
       "      <th>25%</th>\n",
       "      <td>6.300000</td>\n",
       "      <td>0.210000</td>\n",
       "      <td>0.270000</td>\n",
       "      <td>1.700000</td>\n",
       "      <td>0.036000</td>\n",
       "      <td>23.000000</td>\n",
       "      <td>108.000000</td>\n",
       "      <td>0.991720</td>\n",
       "      <td>3.090000</td>\n",
       "      <td>0.410000</td>\n",
       "      <td>9.500000</td>\n",
       "      <td>5.000000</td>\n",
       "    </tr>\n",
       "    <tr>\n",
       "      <th>50%</th>\n",
       "      <td>6.800000</td>\n",
       "      <td>0.260000</td>\n",
       "      <td>0.320000</td>\n",
       "      <td>5.200000</td>\n",
       "      <td>0.043000</td>\n",
       "      <td>34.000000</td>\n",
       "      <td>134.000000</td>\n",
       "      <td>0.993740</td>\n",
       "      <td>3.180000</td>\n",
       "      <td>0.470000</td>\n",
       "      <td>10.400000</td>\n",
       "      <td>6.000000</td>\n",
       "    </tr>\n",
       "    <tr>\n",
       "      <th>75%</th>\n",
       "      <td>7.300000</td>\n",
       "      <td>0.320000</td>\n",
       "      <td>0.390000</td>\n",
       "      <td>9.900000</td>\n",
       "      <td>0.050000</td>\n",
       "      <td>46.000000</td>\n",
       "      <td>167.000000</td>\n",
       "      <td>0.996100</td>\n",
       "      <td>3.280000</td>\n",
       "      <td>0.550000</td>\n",
       "      <td>11.400000</td>\n",
       "      <td>6.000000</td>\n",
       "    </tr>\n",
       "    <tr>\n",
       "      <th>max</th>\n",
       "      <td>14.200000</td>\n",
       "      <td>1.100000</td>\n",
       "      <td>1.230000</td>\n",
       "      <td>31.600000</td>\n",
       "      <td>0.255000</td>\n",
       "      <td>146.500000</td>\n",
       "      <td>366.500000</td>\n",
       "      <td>1.010300</td>\n",
       "      <td>3.820000</td>\n",
       "      <td>1.080000</td>\n",
       "      <td>14.200000</td>\n",
       "      <td>9.000000</td>\n",
       "    </tr>\n",
       "  </tbody>\n",
       "</table>\n",
       "</div>"
      ],
      "text/plain": [
       "       fixed acidity  volatile acidity  citric acid  residual sugar  \\\n",
       "count    4891.000000       4891.000000  4891.000000     4891.000000   \n",
       "mean        6.854498          0.277937     0.333915        6.379278   \n",
       "std         0.844040          0.100096     0.119527        5.001413   \n",
       "min         3.800000          0.080000     0.000000        0.600000   \n",
       "25%         6.300000          0.210000     0.270000        1.700000   \n",
       "50%         6.800000          0.260000     0.320000        5.200000   \n",
       "75%         7.300000          0.320000     0.390000        9.900000   \n",
       "max        14.200000          1.100000     1.230000       31.600000   \n",
       "\n",
       "         chlorides  free sulfur dioxide  total sulfur dioxide      density  \\\n",
       "count  4891.000000          4891.000000           4891.000000  4891.000000   \n",
       "mean      0.045562            35.260478            138.258945     0.994017   \n",
       "std       0.020576            16.609072             42.273817     0.002921   \n",
       "min       0.009000             2.000000              9.000000     0.987110   \n",
       "25%       0.036000            23.000000            108.000000     0.991720   \n",
       "50%       0.043000            34.000000            134.000000     0.993740   \n",
       "75%       0.050000            46.000000            167.000000     0.996100   \n",
       "max       0.255000           146.500000            366.500000     1.010300   \n",
       "\n",
       "                pH    sulphates      alcohol      quality  \n",
       "count  4891.000000  4891.000000  4891.000000  4891.000000  \n",
       "mean      3.188227     0.489681    10.514594     5.879370  \n",
       "std       0.150974     0.114094     1.230703     0.884637  \n",
       "min       2.720000     0.220000     8.000000     3.000000  \n",
       "25%       3.090000     0.410000     9.500000     5.000000  \n",
       "50%       3.180000     0.470000    10.400000     6.000000  \n",
       "75%       3.280000     0.550000    11.400000     6.000000  \n",
       "max       3.820000     1.080000    14.200000     9.000000  "
      ]
     },
     "execution_count": 8,
     "metadata": {},
     "output_type": "execute_result"
    }
   ],
   "source": [
    "white_wine.describe()"
   ]
  },
  {
   "cell_type": "code",
   "execution_count": 9,
   "id": "9c9f356f",
   "metadata": {},
   "outputs": [
    {
     "data": {
      "text/plain": [
       "<matplotlib.collections.PathCollection at 0x1a73dcd3b50>"
      ]
     },
     "execution_count": 9,
     "metadata": {},
     "output_type": "execute_result"
    },
    {
     "data": {
      "image/png": "[encoded data removed]",
      "text/plain": [
       "<Figure size 640x480 with 1 Axes>"
      ]
     },
     "metadata": {},
     "output_type": "display_data"
    }
   ],
   "source": [
    "plt.xlabel('residual_sugar'); plt.ylabel('density')\n",
    "plt.scatter(white_wine[\"residual sugar\"],white_wine[\"density\"])"
   ]
  },
  {
   "cell_type": "markdown",
   "id": "9f0df1f3",
   "metadata": {},
   "source": [
    "We have ony removed 7 instances, and our distribution seems to make much more sense in this graph. Next, we split and then scale our data. We also know that our data labels are imbalanced, so we can oversample from the underrepresented classes."
   ]
  },
  {
   "cell_type": "code",
   "execution_count": 10,
   "id": "89f9e714",
   "metadata": {},
   "outputs": [
    {
     "data": {
      "text/plain": [
       "6    2196\n",
       "5    1454\n",
       "7     880\n",
       "8     175\n",
       "4     162\n",
       "3      19\n",
       "9       5\n",
       "Name: quality, dtype: int64"
      ]
     },
     "execution_count": 10,
     "metadata": {},
     "output_type": "execute_result"
    }
   ],
   "source": [
    "white_wine.quality.value_counts()"
   ]
  },
  {
   "cell_type": "markdown",
   "id": "851ba5e8",
   "metadata": {},
   "source": [
    "We still have a big problem with labels. Among thousand of data, only 5 has the value \"9\". Consider splitting this data to training and test. Additionally, for one person score 6 could mean socre 7 for another, they are not really well-defined scores. Let us assume for this analysis, we want to consider if wine quality is bad (scores 3-5), average (scores 6-7), or good (8-9). We will still have imbalance in the data, but we will deal with that later. Let us change the labels accordingly."
   ]
  },
  {
   "cell_type": "code",
   "execution_count": 11,
   "id": "a45aa0ee",
   "metadata": {},
   "outputs": [],
   "source": [
    "import copy\n",
    "white_wine_continuous = copy.deepcopy(white_wine)"
   ]
  },
  {
   "cell_type": "code",
   "execution_count": 12,
   "id": "d9136fa0",
   "metadata": {},
   "outputs": [],
   "source": [
    "label_dict = {3: 'Bad', 4:'Bad', 5:'Bad',6:'Average',7:'Average',8:'Good',9:'Good'}\n",
    "white_wine.quality = white_wine.quality.map(label_dict)"
   ]
  },
  {
   "cell_type": "code",
   "execution_count": 13,
   "id": "b955f48d",
   "metadata": {},
   "outputs": [
    {
     "data": {
      "text/plain": [
       "<AxesSubplot: >"
      ]
     },
     "execution_count": 13,
     "metadata": {},
     "output_type": "execute_result"
    },
    {
     "data": {
      "image/png": "[encoded data removed]",
      "text/plain": [
       "<Figure size 640x480 with 1 Axes>"
      ]
     },
     "metadata": {},
     "output_type": "display_data"
    }
   ],
   "source": [
    "white_wine.quality.astype('string').value_counts().sort_index().plot(kind='bar')"
   ]
  },
  {
   "cell_type": "code",
   "execution_count": 14,
   "id": "4cee7c6c",
   "metadata": {},
   "outputs": [],
   "source": [
    "from sklearn.preprocessing import StandardScaler\n",
    "from imblearn.over_sampling import RandomOverSampler\n",
    "from sklearn.model_selection import train_test_split\n",
    "from sklearn.preprocessing import MinMaxScaler\n",
    "\n",
    "def makeOverSamplesSMOTE(X_a,y_a):\n",
    "     from imblearn.over_sampling import SMOTE\n",
    "     sm = SMOTE(k_neighbors=3)\n",
    "     X, y = sm.fit_resample(X_a, y_a)\n",
    "     return X,y\n",
    "    \n",
    "\n",
    "def split_scale_sample_data(data, sca = 'MinMax', oversample = 'False'):\n",
    "\n",
    "    X = data[data.columns[:-1]].values; y = data[data.columns[-1]].values\n",
    "    \n",
    "    X_train, X_test, y_train, y_test = train_test_split(X, y, test_size=0.1, random_state=1234)\n",
    "\n",
    "    if sca == 'MinMax':\n",
    "        scaler = MinMaxScaler()\n",
    "    elif sca == 'Standard':\n",
    "        scaler = StandardScaler()\n",
    "        \n",
    "    X_train = scaler.fit_transform(X_train)  \n",
    "    X_test = scaler.transform(X_test)\n",
    "    \n",
    "    if oversample == 'True': \n",
    "        oversampler = RandomOverSampler()\n",
    "        X_train, y_train = oversampler.fit_resample(X_train,y_train)\n",
    "    elif oversample == 'SMOTE':\n",
    "        X_train, y_train = makeOverSamplesSMOTE(X_train, y_train)\n",
    "        \n",
    "           \n",
    "    return X_train, X_test, y_train, y_test"
   ]
  },
  {
   "cell_type": "markdown",
   "id": "f0437936",
   "metadata": {},
   "source": [
    "Since our data is prepared, let us select some highly efficient algorithm to train for multi-class classification. First, let us start with a simple K-NN model:"
   ]
  },
  {
   "cell_type": "code",
   "execution_count": 15,
   "id": "0f030029",
   "metadata": {},
   "outputs": [],
   "source": [
    "from sklearn.model_selection import GridSearchCV\n",
    "from sklearn.neighbors import KNeighborsClassifier\n",
    "\n",
    "def KNN_param_grid(X_train, X_test, y_train, y_test):\n",
    "    param_grid = {'n_neighbors': [1,2,5,10,25,50,100]}\n",
    "    print(\"Parameter grid:\\n{}\".format(param_grid))\n",
    "    grid_search = GridSearchCV(KNeighborsClassifier(), param_grid, cv=5)\n",
    "    grid_search.fit(X_train, y_train)\n",
    "    print(\"Test set score:\", grid_search.score(X_test, y_test))\n",
    "    print(\"Best parameters: {}\".format(grid_search.best_params_))\n"
   ]
  },
  {
   "cell_type": "code",
   "execution_count": 16,
   "id": "74709319",
   "metadata": {},
   "outputs": [],
   "source": [
    "X_train_f, X_test_f, y_train_f, y_test_f = split_scale_sample_data(white_wine,'MinMax','False')\n",
    "X_train_t, X_test_t, y_train_t, y_test_t = split_scale_sample_data(white_wine,'MinMax','True')\n",
    "X_train_s, X_test_s, y_train_s, y_test_s = split_scale_sample_data(white_wine,'MinMax','SMOTE')\n"
   ]
  },
  {
   "cell_type": "code",
   "execution_count": 17,
   "id": "7380bbe0",
   "metadata": {},
   "outputs": [
    {
     "name": "stdout",
     "output_type": "stream",
     "text": [
      "Parameter grid:\n",
      "{'n_neighbors': [1, 2, 5, 10, 25, 50, 100]}\n",
      "Test set score: 0.7775510204081633\n",
      "Best parameters: {'n_neighbors': 1}\n"
     ]
    }
   ],
   "source": [
    "KNN_param_grid(X_train_f, X_test_f, y_train_f, y_test_f)"
   ]
  },
  {
   "cell_type": "code",
   "execution_count": 18,
   "id": "2715d80b",
   "metadata": {},
   "outputs": [
    {
     "name": "stdout",
     "output_type": "stream",
     "text": [
      "Parameter grid:\n",
      "{'n_neighbors': [1, 2, 5, 10, 25, 50, 100]}\n",
      "Test set score: 0.7775510204081633\n",
      "Best parameters: {'n_neighbors': 1}\n"
     ]
    }
   ],
   "source": [
    "KNN_param_grid(X_train_t, X_test_t, y_train_t, y_test_t)"
   ]
  },
  {
   "cell_type": "code",
   "execution_count": 19,
   "id": "60a3c443",
   "metadata": {},
   "outputs": [
    {
     "name": "stdout",
     "output_type": "stream",
     "text": [
      "Parameter grid:\n",
      "{'n_neighbors': [1, 2, 5, 10, 25, 50, 100]}\n",
      "Test set score: 0.7693877551020408\n",
      "Best parameters: {'n_neighbors': 1}\n"
     ]
    }
   ],
   "source": [
    "KNN_param_grid(X_train_s, X_test_s, y_train_s, y_test_s)"
   ]
  },
  {
   "cell_type": "markdown",
   "id": "49e4230a",
   "metadata": {},
   "source": [
    "We see that n_neighbors = 1 is the best choice, which means that we can successfully guess the quality of a wine using the quality score of the wine closest  to it. \n",
    "\n",
    "Oversampling does not really help with the validation set score in this method, SMOTE methodology seems to be performing worse than the other two options.\n",
    "\n",
    "\n",
    "Next, let us see the performance of decision trees and random forests:"
   ]
  },
  {
   "cell_type": "code",
   "execution_count": 51,
   "id": "1fef47ff",
   "metadata": {},
   "outputs": [],
   "source": [
    "from sklearn.tree import DecisionTreeClassifier\n",
    "from sklearn.ensemble import RandomForestClassifier\n",
    "\n",
    "def DecisionTree_param_grid(X_train, X_test, y_train, y_test):\n",
    "    param_grid = {'max_depth': [2,4,6,8,10], 'min_samples_split':[1,2,5,10], 'criterion' :[ \"gini\", \"entropy\", \"log_loss\"]}    \n",
    "    print(\"Parameter grid:\\n{}\".format(param_grid))\n",
    "    grid_search = GridSearchCV(DecisionTreeClassifier(), param_grid, cv=5)\n",
    "    grid_search.fit(X_train, y_train)\n",
    "    print(\"Valid set score:\", grid_search.score(X_test, y_test))\n",
    "    print(\"Best parameters: {}\".format(grid_search.best_params_))\n",
    "    \n",
    "    results = pd.DataFrame(grid_search.cv_results_)\n",
    "   \n",
    "def RandomForest_param_grid(X_train, X_test, y_train, y_test):\n",
    "    param_grid = {'n_estimators': [10,50,100], 'criterion' :[ \"gini\", \"entropy\", \"log_loss\"]}    \n",
    "    grid_search = GridSearchCV(RandomForestClassifier(), param_grid, cv=5)\n",
    "    grid_search.fit(X_train, y_train)\n",
    "    print(\"Valid set score:\", grid_search.score(X_test, y_test))\n",
    "    \n",
    "    results = pd.DataFrame(grid_search.cv_results_)   \n",
    "    return grid_search.score(X_test, y_test)"
   ]
  },
  {
   "cell_type": "code",
   "execution_count": 21,
   "id": "c869b91f",
   "metadata": {},
   "outputs": [
    {
     "name": "stdout",
     "output_type": "stream",
     "text": [
      "Parameter grid:\n",
      "{'max_depth': [2, 4, 6, 8, 10], 'min_samples_split': [1, 2, 5, 10], 'criterion': ['gini', 'entropy', 'log_loss']}\n",
      "Valid set score: 0.7489795918367347\n",
      "Best parameters: {'criterion': 'gini', 'max_depth': 10, 'min_samples_split': 2}\n"
     ]
    }
   ],
   "source": [
    "DecisionTree_param_grid(X_train_f, X_test_f, y_train_f, y_test_f)"
   ]
  },
  {
   "cell_type": "code",
   "execution_count": 22,
   "id": "f978afa7",
   "metadata": {},
   "outputs": [
    {
     "name": "stdout",
     "output_type": "stream",
     "text": [
      "Parameter grid:\n",
      "{'max_depth': [2, 4, 6, 8, 10], 'min_samples_split': [1, 2, 5, 10], 'criterion': ['gini', 'entropy', 'log_loss']}\n",
      "Valid set score: 0.6306122448979592\n",
      "Best parameters: {'criterion': 'gini', 'max_depth': 10, 'min_samples_split': 2}\n"
     ]
    }
   ],
   "source": [
    "DecisionTree_param_grid(X_train_t, X_test_t, y_train_t, y_test_t)"
   ]
  },
  {
   "cell_type": "code",
   "execution_count": 23,
   "id": "8463a376",
   "metadata": {},
   "outputs": [
    {
     "name": "stdout",
     "output_type": "stream",
     "text": [
      "Parameter grid:\n",
      "{'max_depth': [2, 4, 6, 8, 10], 'min_samples_split': [1, 2, 5, 10], 'criterion': ['gini', 'entropy', 'log_loss']}\n",
      "Valid set score: 0.6326530612244898\n",
      "Best parameters: {'criterion': 'gini', 'max_depth': 10, 'min_samples_split': 1}\n"
     ]
    }
   ],
   "source": [
    "DecisionTree_param_grid(X_train_s, X_test_s, y_train_s, y_test_s)"
   ]
  },
  {
   "cell_type": "code",
   "execution_count": 38,
   "id": "1ee10917",
   "metadata": {},
   "outputs": [
    {
     "name": "stdout",
     "output_type": "stream",
     "text": [
      "Valid set score: 0.7918367346938775\n"
     ]
    }
   ],
   "source": [
    "RandomForest_param_grid(X_train_f, X_test_f, y_train_f, y_test_f)"
   ]
  },
  {
   "cell_type": "code",
   "execution_count": 39,
   "id": "81e8a61e",
   "metadata": {},
   "outputs": [
    {
     "name": "stdout",
     "output_type": "stream",
     "text": [
      "Valid set score: 0.7836734693877551\n"
     ]
    }
   ],
   "source": [
    "RandomForest_param_grid(X_train_t, X_test_t, y_train_t, y_test_t)"
   ]
  },
  {
   "cell_type": "code",
   "execution_count": 40,
   "id": "27b6b34b",
   "metadata": {},
   "outputs": [
    {
     "name": "stdout",
     "output_type": "stream",
     "text": [
      "Valid set score: 0.7775510204081633\n"
     ]
    }
   ],
   "source": [
    "RandomForest_param_grid(X_train_s, X_test_s, y_train_s, y_test_s)"
   ]
  },
  {
   "cell_type": "markdown",
   "id": "8aa2e8d7",
   "metadata": {},
   "source": [
    "We note that up until this point RandomForest with not oversampling has the best validation set score of 0.79. Let us train a MLP neural net:"
   ]
  },
  {
   "cell_type": "code",
   "execution_count": 27,
   "id": "dfc844e3",
   "metadata": {},
   "outputs": [],
   "source": [
    "from sklearn.neural_network import MLPClassifier\n",
    "\n",
    "def NN_param_grid(X_train, X_test, y_train, y_test):\n",
    "    param_grid = {'activation': ['relu'], \n",
    "                  'hidden_layer_sizes': [(15,25),(15,5),(50,50)],\n",
    "                  'learning_rate': ['adaptive'], 'solver':['sgd'], 'max_iter': [500]\n",
    "                  }    \n",
    "    print(\"Parameter grid:\\n{}\".format(param_grid))\n",
    "    grid_search = GridSearchCV(MLPClassifier(), param_grid, cv=5)\n",
    "    grid_search.fit(X_train, y_train)\n",
    "    print(\"Valid set score:\", grid_search.score(X_test, y_test))\n",
    "    print(\"Best parameters: {}\".format(grid_search.best_params_))\n",
    "    \n",
    "    results = pd.DataFrame(grid_search.cv_results_)  \n",
    "    "
   ]
  },
  {
   "cell_type": "code",
   "execution_count": 28,
   "id": "4acab50a",
   "metadata": {},
   "outputs": [],
   "source": [
    " #NN_param_grid(X_train_f, X_test_f, y_train_f, y_test_f)\n",
    " #it throws lots of warnings so commented out - it works correctly"
   ]
  },
  {
   "cell_type": "markdown",
   "id": "2762d6bc",
   "metadata": {},
   "source": [
    "Lastly, we can train a multiclass logistic regression model:"
   ]
  },
  {
   "cell_type": "code",
   "execution_count": 52,
   "id": "da35da70",
   "metadata": {},
   "outputs": [],
   "source": [
    "from sklearn.linear_model import LogisticRegression\n",
    "\n",
    "def LogisticRegression_grid(X_train, X_test, y_train, y_test):\n",
    "    param_grid = {'multi_class': ['ovr'], \n",
    "                  'penalty' : ['l2', None]\n",
    "                  }    \n",
    "    print(\"Parameter grid:\\n{}\".format(param_grid))\n",
    "    grid_search = GridSearchCV(LogisticRegression(), param_grid, cv=5)\n",
    "    grid_search.fit(X_train, y_train)\n",
    "    print(\"Valid set score:\", grid_search.score(X_test, y_test))\n",
    "    print(\"Best parameters: {}\".format(grid_search.best_params_))\n",
    "    \n",
    "    results = pd.DataFrame(grid_search.cv_results_)  \n",
    "    return grid_search.score(X_test, y_test)"
   ]
  },
  {
   "cell_type": "code",
   "execution_count": 53,
   "id": "c5cf8085",
   "metadata": {},
   "outputs": [
    {
     "name": "stdout",
     "output_type": "stream",
     "text": [
      "Parameter grid:\n",
      "{'multi_class': ['ovr'], 'penalty': ['l2', None]}\n",
      "Valid set score: 0.7020408163265306\n",
      "Best parameters: {'multi_class': 'ovr', 'penalty': None}\n"
     ]
    },
    {
     "data": {
      "text/plain": [
       "0.7020408163265306"
      ]
     },
     "execution_count": 53,
     "metadata": {},
     "output_type": "execute_result"
    }
   ],
   "source": [
    "LogisticRegression_grid(X_train_f, X_test_f, y_train_f, y_test_f)"
   ]
  },
  {
   "cell_type": "markdown",
   "id": "2cec126f",
   "metadata": {},
   "source": [
    "More parameter tuning could help neural net, however, the prediction rates are not that close to random forest results, so let us go with the random forests for now.\n",
    "\n",
    "Let us check all the methods one more time using the best models selected by cross validation.\n"
   ]
  },
  {
   "cell_type": "code",
   "execution_count": 31,
   "id": "f288b756",
   "metadata": {},
   "outputs": [
    {
     "name": "stdout",
     "output_type": "stream",
     "text": [
      "decision_tree_test_score 0.753061224489796\n",
      "random_forest_test_score 0.7918367346938775\n",
      "nn_test_score 0.7\n",
      "knn_test_score 0.7775510204081633\n"
     ]
    }
   ],
   "source": [
    "# I will fit the models again however this step can be skipped if we record the fits on top.\n",
    "decision_tree_fit = DecisionTreeClassifier(criterion= 'gini', max_depth= 10, min_samples_split= 2).fit(X_train_f,y_train_f)\n",
    "random_forest_fit = RandomForestClassifier(criterion= 'entropy', n_estimators= 100).fit(X_train_f,y_train_f)\n",
    "nn_fit = MLPClassifier(activation= 'relu', hidden_layer_sizes= (50, 50), learning_rate= 'adaptive'\n",
    "                       , max_iter= 500, solver= 'adam').fit(X_train_f,y_train_f) # lowered the max_iter for speed\n",
    "knn_fit = KNeighborsClassifier(n_neighbors = 1).fit(X_train_f,y_train_f)\n",
    "\n",
    "print('decision_tree_test_score',decision_tree_fit.score(X_test_f, y_test_f))\n",
    "print('random_forest_test_score',random_forest_fit.score(X_test_f, y_test_f))\n",
    "print('nn_test_score',nn_fit.score(X_test_f, y_test_f))\n",
    "print('knn_test_score',knn_fit.score(X_test_f, y_test_f))"
   ]
  },
  {
   "cell_type": "markdown",
   "id": "fd7f8e0d",
   "metadata": {},
   "source": [
    "Let us try to work out which parameters are the most important to prediction power:"
   ]
  },
  {
   "cell_type": "code",
   "execution_count": 32,
   "id": "59ff93a5",
   "metadata": {},
   "outputs": [
    {
     "data": {
      "text/plain": [
       "Text(0.5, 0, 'Feature Importance Figure')"
      ]
     },
     "execution_count": 32,
     "metadata": {},
     "output_type": "execute_result"
    },
    {
     "data": {
      "image/png": "[encoded data removed]",
      "text/plain": [
       "<Figure size 640x480 with 1 Axes>"
      ]
     },
     "metadata": {},
     "output_type": "display_data"
    }
   ],
   "source": [
    "sorted_idx = random_forest_fit.feature_importances_.argsort()\n",
    "plt.barh(white_wine.columns[:-1][sorted_idx], random_forest_fit.feature_importances_[sorted_idx])\n",
    "plt.xlabel(\"Feature Importance Figure\")"
   ]
  },
  {
   "cell_type": "markdown",
   "id": "5ec8305e",
   "metadata": {},
   "source": [
    "There are no completely useless features. However, we can see that alcohol amount plays the biggest role in quality of the wine. We can use other methods to understand the contribution of each feature to the model prediction power. For example, we can train random forests model using only a subset of features to see which feature is \"fine\" to remove. Let us leave one feature out and train our models using the previous cross-validation procedure below:"
   ]
  },
  {
   "cell_type": "code",
   "execution_count": 37,
   "id": "140e87bf",
   "metadata": {},
   "outputs": [
    {
     "name": "stdout",
     "output_type": "stream",
     "text": [
      "Remove the feature 1:\n",
      "Valid set score: 0.7959183673469388\n",
      "Remove the feature 2:\n",
      "Valid set score: 0.7795918367346939\n",
      "Remove the feature 3:\n",
      "Valid set score: 0.789795918367347\n",
      "Remove the feature 4:\n",
      "Valid set score: 0.7918367346938775\n",
      "Remove the feature 5:\n",
      "Valid set score: 0.8040816326530612\n",
      "Remove the feature 6:\n",
      "Valid set score: 0.7959183673469388\n",
      "Remove the feature 7:\n",
      "Valid set score: 0.7877551020408163\n",
      "Remove the feature 8:\n",
      "Valid set score: 0.7918367346938775\n",
      "Remove the feature 9:\n",
      "Valid set score: 0.7938775510204081\n",
      "Remove the feature 10:\n",
      "Valid set score: 0.7816326530612245\n",
      "Remove the feature 11:\n",
      "Valid set score: 0.8\n"
     ]
    }
   ],
   "source": [
    "no_features = len(X_train_f[0])\n",
    "for index in range(no_features):\n",
    "    print('Remove the feature '+str(index+1)+':')\n",
    "    new_range = np.delete(np.arange(no_features), index)\n",
    "    RandomForest_param_grid(X_train_f[:,new_range], X_test_f[:,new_range], y_train_f, y_test_f)\n",
    "    "
   ]
  },
  {
   "cell_type": "markdown",
   "id": "d2e19f78",
   "metadata": {},
   "source": [
    "We note that features 11 and 5 might be removed from the model without loss in predictive power. However, note that, when we remove one feature, seemingly unimportant feature might become more important due to possible collinearities. I will write the following code to remove features step by step and continue with removing process until the validation score gets lower than 0.78, then we stop and extract the important features:"
   ]
  },
  {
   "cell_type": "code",
   "execution_count": 59,
   "id": "cf1030d9",
   "metadata": {},
   "outputs": [
    {
     "name": "stdout",
     "output_type": "stream",
     "text": [
      "Selected_features: [ 1  2  3  4  5  6  7  8  9 10]\n",
      "Valid set score: 0.7857142857142857\n",
      "Selected_features: [ 0  2  3  4  5  6  7  8  9 10]\n",
      "Valid set score: 0.7857142857142857\n",
      "Selected_features: [ 0  1  3  4  5  6  7  8  9 10]\n",
      "Valid set score: 0.7836734693877551\n",
      "Selected_features: [ 0  1  2  4  5  6  7  8  9 10]\n",
      "Valid set score: 0.7918367346938775\n",
      "Selected_features: [ 0  1  2  3  5  6  7  8  9 10]\n",
      "Valid set score: 0.7959183673469388\n",
      "Selected_features: [ 0  1  2  3  4  6  7  8  9 10]\n",
      "Valid set score: 0.7938775510204081\n",
      "Selected_features: [ 0  1  2  3  4  5  7  8  9 10]\n",
      "Valid set score: 0.7938775510204081\n",
      "Selected_features: [ 0  1  2  3  4  5  6  8  9 10]\n",
      "Valid set score: 0.7918367346938775\n",
      "Selected_features: [ 0  1  2  3  4  5  6  7  9 10]\n",
      "Valid set score: 0.7938775510204081\n",
      "Selected_features: [ 0  1  2  3  4  5  6  7  8 10]\n",
      "Valid set score: 0.7775510204081633\n",
      "Selected_features: [0 1 2 3 4 5 6 7 8 9]\n",
      "Valid set score: 0.8020408163265306\n",
      "Remove feature 10\n",
      "Selected_features: [1 2 3 4 5 6 7 8 9]\n",
      "Valid set score: 0.8061224489795918\n",
      "Selected_features: [0 2 3 4 5 6 7 8 9]\n",
      "Valid set score: 0.7938775510204081\n",
      "Selected_features: [0 1 3 4 5 6 7 8 9]\n",
      "Valid set score: 0.8081632653061225\n",
      "Selected_features: [0 1 2 4 5 6 7 8 9]\n",
      "Valid set score: 0.8061224489795918\n",
      "Selected_features: [0 1 2 3 5 6 7 8 9]\n",
      "Valid set score: 0.8040816326530612\n",
      "Selected_features: [0 1 2 3 4 6 7 8 9]\n",
      "Valid set score: 0.7938775510204081\n",
      "Selected_features: [0 1 2 3 4 5 7 8 9]\n",
      "Valid set score: 0.7979591836734694\n",
      "Selected_features: [0 1 2 3 4 5 6 8 9]\n",
      "Valid set score: 0.789795918367347\n",
      "Selected_features: [0 1 2 3 4 5 6 7 9]\n",
      "Valid set score: 0.8061224489795918\n",
      "Selected_features: [0 1 2 3 4 5 6 7 8]\n",
      "Valid set score: 0.7979591836734694\n",
      "Remove feature 2\n",
      "Selected_features: [1 3 4 5 6 7 8 9]\n",
      "Valid set score: 0.7938775510204081\n",
      "Selected_features: [0 3 4 5 6 7 8 9]\n",
      "Valid set score: 0.7877551020408163\n",
      "Selected_features: [0 1 4 5 6 7 8 9]\n",
      "Valid set score: 0.7979591836734694\n",
      "Selected_features: [0 1 3 5 6 7 8 9]\n",
      "Valid set score: 0.789795918367347\n",
      "Selected_features: [0 1 3 4 6 7 8 9]\n",
      "Valid set score: 0.7979591836734694\n",
      "Selected_features: [0 1 3 4 5 7 8 9]\n",
      "Valid set score: 0.7857142857142857\n",
      "Selected_features: [0 1 3 4 5 6 8 9]\n",
      "Valid set score: 0.7816326530612245\n",
      "Selected_features: [0 1 3 4 5 6 7 9]\n",
      "Valid set score: 0.7979591836734694\n",
      "Selected_features: [0 1 3 4 5 6 7 8]\n",
      "Valid set score: 0.7755102040816326\n",
      "Remove feature 3\n",
      "Selected_features: [1 4 5 6 7 8 9]\n",
      "Valid set score: 0.7918367346938775\n",
      "Selected_features: [0 4 5 6 7 8 9]\n",
      "Valid set score: 0.7755102040816326\n",
      "Selected_features: [0 1 5 6 7 8 9]\n",
      "Valid set score: 0.7959183673469388\n",
      "Selected_features: [0 1 4 6 7 8 9]\n",
      "Valid set score: 0.7918367346938775\n",
      "Selected_features: [0 1 4 5 7 8 9]\n",
      "Valid set score: 0.7816326530612245\n",
      "Selected_features: [0 1 4 5 6 8 9]\n",
      "Valid set score: 0.7836734693877551\n",
      "Selected_features: [0 1 4 5 6 7 9]\n",
      "Valid set score: 0.8061224489795918\n",
      "Selected_features: [0 1 4 5 6 7 8]\n",
      "Valid set score: 0.7979591836734694\n",
      "Remove feature 8\n",
      "Selected_features: [1 4 5 6 7 9]\n",
      "Valid set score: 0.810204081632653\n",
      "Selected_features: [0 4 5 6 7 9]\n",
      "Valid set score: 0.7755102040816326\n",
      "Selected_features: [0 1 5 6 7 9]\n",
      "Valid set score: 0.7857142857142857\n",
      "Selected_features: [0 1 4 6 7 9]\n",
      "Valid set score: 0.7979591836734694\n",
      "Selected_features: [0 1 4 5 7 9]\n",
      "Valid set score: 0.7959183673469388\n",
      "Selected_features: [0 1 4 5 6 9]\n",
      "Valid set score: 0.7775510204081633\n",
      "Selected_features: [0 1 4 5 6 7]\n",
      "Valid set score: 0.789795918367347\n",
      "Remove feature 0\n",
      "Selected_features: [4 5 6 7 9]\n",
      "Valid set score: 0.7775510204081633\n",
      "Selected_features: [1 5 6 7 9]\n",
      "Valid set score: 0.7775510204081633\n",
      "Selected_features: [1 4 6 7 9]\n",
      "Valid set score: 0.7979591836734694\n",
      "Selected_features: [1 4 5 7 9]\n",
      "Valid set score: 0.789795918367347\n",
      "Selected_features: [1 4 5 6 9]\n",
      "Valid set score: 0.7816326530612245\n",
      "Selected_features: [1 4 5 6 7]\n",
      "Valid set score: 0.7959183673469388\n",
      "Remove feature 5\n",
      "Selected_features: [4 6 7 9]\n",
      "Valid set score: 0.7653061224489796\n",
      "Selected_features: [1 6 7 9]\n",
      "Valid set score: 0.7877551020408163\n",
      "Selected_features: [1 4 7 9]\n",
      "Valid set score: 0.7816326530612245\n",
      "Selected_features: [1 4 6 9]\n",
      "Valid set score: 0.7673469387755102\n",
      "Selected_features: [1 4 6 7]\n",
      "Valid set score: 0.7714285714285715\n",
      "Features remaining after applying forward feature selection: Index(['volatile acidity', 'chlorides', 'total sulfur dioxide', 'density',\n",
      "       'sulphates'],\n",
      "      dtype='object')\n"
     ]
    }
   ],
   "source": [
    "no_features = len(X_train_f[0])\n",
    "\n",
    "max_validation_score = 100\n",
    "current_range = np.arange(no_features)\n",
    "while True: \n",
    "    validation_score = [] \n",
    "    for index in current_range:\n",
    "        new_range = np.delete(current_range, np.where(current_range == index), axis=0)\n",
    "        print('Selected_features:',new_range)\n",
    "        score = RandomForest_param_grid(X_train_f[:,new_range], X_test_f[:,new_range], y_train_f, y_test_f)\n",
    "        validation_score.append(score)\n",
    "        \n",
    "    ### remove the feature with the least predictive impact on our model\n",
    "    remove_feature = current_range[np.argmax(validation_score)]  \n",
    "    \n",
    "    max_validation_score = max(validation_score)\n",
    "    if max_validation_score >= 0.79: ## if the prediction score is still high, we continue\n",
    "        print(\"Remove feature \"+ str(remove_feature))\n",
    "        current_range = np.delete(current_range, np.where(current_range == remove_feature), axis=0)\n",
    "    else: break\n",
    "print('Features remaining after applying forward feature selection:', white_wine.columns[current_range])\n",
    "    "
   ]
  },
  {
   "cell_type": "markdown",
   "id": "ce14f18e",
   "metadata": {},
   "source": [
    "To our great surprise, by removing features we can actually achieve a better prediction rate than before. This happens because models can get confused and overfit noise. Also, sometimes two features are highly collinear, resulting in poor performance. At the end of this feature selection procedure, we have a more compact feature list with better predictive power. \n",
    "\n",
    "At the end, we have a quite strong model only using the features: \n",
    "'volatile acidity', 'chlorides', 'total sulfur dioxide', 'density', 'sulphates'\n",
    "\n",
    "Note that, compared to our previous feature importance figure we do not include alcohol in our model, this might be result of alcohol feature can be predicted by using the features remaining in our model.\n",
    "\n",
    "If we have time in our hands, we can apply this procedure by mixing-matching the features to find the most compact model without losing any predictive power. "
   ]
  },
  {
   "cell_type": "code",
   "execution_count": 71,
   "id": "77c951ad",
   "metadata": {},
   "outputs": [
    {
     "name": "stdout",
     "output_type": "stream",
     "text": [
      "Valid set score: 0.8\n"
     ]
    },
    {
     "data": {
      "text/plain": [
       "0.8"
      ]
     },
     "execution_count": 71,
     "metadata": {},
     "output_type": "execute_result"
    }
   ],
   "source": [
    "selected_features = ['volatile acidity', 'chlorides', 'total sulfur dioxide', 'density', 'sulphates','quality']\n",
    "white_wine_new = white_wine[selected_features]\n",
    "\n",
    "X_train_subset, X_test_subset, y_train_subset, y_test_subset = split_scale_sample_data(white_wine_new,'MinMax','False')\n",
    "RandomForest_param_grid(X_train_subset, X_test_subset, y_train_subset, y_test_subset) # sanity check results"
   ]
  },
  {
   "cell_type": "markdown",
   "id": "447b6cd8",
   "metadata": {},
   "source": [
    "Next, we can use random forest regression to estimate the quality of wine. In this case, quality can get continuous values."
   ]
  },
  {
   "cell_type": "code",
   "execution_count": 72,
   "id": "f3829138",
   "metadata": {},
   "outputs": [],
   "source": [
    "from sklearn.ensemble import RandomForestRegressor\n",
    "\n",
    "def RandomForestRegressor_param_grid(X_train, X_test, y_train, y_test):\n",
    "    param_grid = {    'bootstrap': [True],\n",
    "    'max_depth': [5, 10, 15],\n",
    "    'max_features': [2, 3],\n",
    "    'n_estimators': [100, 200, 500]}    \n",
    "    print(\"Parameter grid:\\n{}\".format(param_grid))\n",
    "    grid_search = GridSearchCV(RandomForestRegressor(), param_grid, cv=5)\n",
    "    grid_search.fit(X_train, y_train)\n",
    "    print(\"Valid set score: \", grid_search.score(X_test, y_test))\n",
    "    print(\"Best parameters: \", grid_search.best_params_)\n",
    "    predictions = grid_search.best_estimator_.predict(X_test)\n",
    "    print(\"MAE: \", np.mean(np.abs(y_test-predictions)))\n",
    "    results = pd.DataFrame(grid_search.cv_results_)   \n",
    "\n"
   ]
  },
  {
   "cell_type": "code",
   "execution_count": 73,
   "id": "5ba66117",
   "metadata": {},
   "outputs": [
    {
     "name": "stdout",
     "output_type": "stream",
     "text": [
      "Parameter grid:\n",
      "{'bootstrap': [True], 'max_depth': [5, 10, 15], 'max_features': [2, 3], 'n_estimators': [100, 200, 500]}\n",
      "Valid set score:  0.4626223557009077\n",
      "Best parameters:  {'bootstrap': True, 'max_depth': 15, 'max_features': 3, 'n_estimators': 500}\n",
      "MAE:  0.46823141291770215\n"
     ]
    }
   ],
   "source": [
    "X_train_fc, X_test_fc, y_train_fc, y_test_fc = split_scale_sample_data(white_wine_continuous,'MinMax','False')\n",
    "RandomForestRegressor_param_grid(X_train_fc, X_test_fc, y_train_fc, y_test_fc)"
   ]
  },
  {
   "cell_type": "markdown",
   "id": "6209a368",
   "metadata": {},
   "source": [
    "We note that regression works fine considering the Mean Absolute Error. We are in average 0.5 far away from the correct classification. The valid set score is quite low. These experiments point out that aggregating dependent variable of quality in bins of bad, average, good wines almost doubles the prediction power of our models."
   ]
  }
 ],
 "metadata": {
  "kernelspec": {
   "display_name": "Python [conda env:python_surprise] *",
   "language": "python",
   "name": "conda-env-python_surprise-py"
  },
  "language_info": {
   "codemirror_mode": {
    "name": "ipython",
    "version": 3
   },
   "file_extension": ".py",
   "mimetype": "text/x-python",
   "name": "python",
   "nbconvert_exporter": "python",
   "pygments_lexer": "ipython3",
   "version": "3.10.8"
  }
 },
 "nbformat": 4,
 "nbformat_minor": 5
}
